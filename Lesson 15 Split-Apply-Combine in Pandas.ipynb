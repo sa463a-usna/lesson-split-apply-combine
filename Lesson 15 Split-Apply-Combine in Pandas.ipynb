{
 "cells": [
  {
   "cell_type": "markdown",
   "metadata": {},
   "source": [
    "**SA463A &#x25aa; Data Wrangling and Visualization &#x25aa; Fall 2020 &#x25aa; Foraker and Uhan**"
   ]
  },
  {
   "cell_type": "markdown",
   "metadata": {},
   "source": [
    "# Lesson 15. Split-Apply-Combine in Pandas"
   ]
  },
  {
   "cell_type": "markdown",
   "metadata": {},
   "source": [
    "## In this lesson..."
   ]
  },
  {
   "cell_type": "markdown",
   "metadata": {},
   "source": [
    "- One key task in data wrangling is to split our dataset into groups, perform a computation on each group, and combine the results\n",
    "\n",
    "\n",
    "- This is often referred to as the **split-apply-combine** paradigm:\n",
    "    * **Split** the data into groups based on some criteria\n",
    "    * **Apply** a function to each group independently\n",
    "    * **Combine** the results\n",
    "    \n",
    "\n",
    "- The apply step might involve one of the following:\n",
    "    - aggregation\n",
    "    - transformation\n",
    "    - filtration\n",
    "    \n",
    "    \n",
    "- Let's see how this works"
   ]
  },
  {
   "cell_type": "markdown",
   "metadata": {},
   "source": [
    "<hr style=\"border-top: 2px solid gray; margin-top: 1px; margin-bottom: 1px\"></hr>"
   ]
  },
  {
   "cell_type": "markdown",
   "metadata": {},
   "source": [
    "## Setup"
   ]
  },
  {
   "cell_type": "markdown",
   "metadata": {},
   "source": [
    "* Let's start by importing Pandas:"
   ]
  },
  {
   "cell_type": "code",
   "execution_count": null,
   "metadata": {},
   "outputs": [],
   "source": [
    "import pandas as pd"
   ]
  },
  {
   "cell_type": "markdown",
   "metadata": {},
   "source": [
    "* We'll use the nycflights13 dataset that we used in previous lessons, containing data on all flights outbound from NYC airports in 2013\n",
    "\n",
    "\n",
    "* This data is located in `data/nycflights13_flights.csv.zip` in the same folder as this notebook:"
   ]
  },
  {
   "cell_type": "code",
   "execution_count": null,
   "metadata": {},
   "outputs": [],
   "source": [
    "df = pd.read_csv('data/nycflights13_flights.csv.zip')"
   ]
  },
  {
   "cell_type": "markdown",
   "metadata": {},
   "source": [
    "* Just to remind ourselves what this dataset looks like:"
   ]
  },
  {
   "cell_type": "code",
   "execution_count": null,
   "metadata": {},
   "outputs": [],
   "source": [
    "df.head()"
   ]
  },
  {
   "cell_type": "markdown",
   "metadata": {},
   "source": [
    "<hr style=\"border-top: 2px solid gray; margin-top: 1px; margin-bottom: 1px\"></hr>"
   ]
  },
  {
   "cell_type": "markdown",
   "metadata": {},
   "source": [
    "## Aggregation"
   ]
  },
  {
   "cell_type": "markdown",
   "metadata": {},
   "source": [
    "- **Aggregation** involves computing a summary statistic for each group of observations\n",
    "\n",
    "\n",
    "- Visually:\n",
    "\n",
    "<img src=\"img/aggregation.jpg\" width=\"800\"/>\n",
    "\n",
    "\n",
    "- To make this concrete, let's work an example with the nycflights13 dataset\n",
    "\n",
    "\n",
    "- Suppose we want to explore the relationship between the distance traveled and arrival delay for each destination\n",
    "\n",
    "\n",
    "- We can do the following:\n",
    "    1. Group flights by destination\n",
    "    2. Compute average distance, average arrival delay, and number of flights for each destination\n",
    "    3. Filter to remove noise: only keep values for destinations with 20 or more flights, remove Honolulu"
   ]
  },
  {
   "cell_type": "code",
   "execution_count": null,
   "metadata": {},
   "outputs": [],
   "source": []
  },
  {
   "cell_type": "markdown",
   "metadata": {},
   "source": [
    "- *Quick aside.* Note that `.head(n)` returns the top `n` rows of a DataFrame\n",
    "    - By default, `.head()` returns the top 5 rows"
   ]
  },
  {
   "cell_type": "markdown",
   "metadata": {},
   "source": [
    "- Let's walk through this code, step-by-step\n",
    "\n",
    "\n",
    "- First, `.groupby(['dest'])` *splits* the DataFrame `df` into groups of rows, according to the row's value of `dest`\n",
    "\n",
    "\n",
    "- Next, `.agg(...)` *applies* various functions to each group independently\n",
    "    - The keyword argument\n",
    "\n",
    "    ```python\n",
    "    avg_distance=('distance', 'mean')\n",
    "\n",
    "    ```\n",
    "    outputs a variable called `avg_distance`, which is equal to the Pandas built-in function `mean` applied to the column `distance` *in each group*\n",
    "    - The other keyword arguments above work in a similar fashion\n",
    "    \n",
    "    \n",
    "- `.agg(...)` then takes the output and *combines* them into a single output DataFrame, where the index is equal to the variables specified in `.groupby(...)`\n",
    "\n",
    "\n",
    "- `.reset_index()` converts the existing index into ordinary columns, and resets the index of the DataFrame to the default one (consecutive integers)\n",
    "    - This is often desired when performing additional wrangling or analysis steps\n",
    "    \n",
    "    \n",
    "- `.query('(n_flights > 20) and (dest != \"HNL\")')` filters the rows of the output DataFrame"
   ]
  },
  {
   "cell_type": "markdown",
   "metadata": {},
   "source": [
    "- **Basic template for aggregation:**\n",
    "\n",
    "    ```python\n",
    "    summarized_df = (\n",
    "        df\n",
    "        .groupby(list_of_variables)\n",
    "        .agg(\n",
    "            new_variable1=('variable1', 'aggregation function'),\n",
    "            new_variable2=('variable2', 'aggregation function'),\n",
    "            ...\n",
    "        )\n",
    "        .reset_index()\n",
    "        ...\n",
    "    )\n",
    "    ```\n",
    "\n",
    "- Here are some common aggregation functions\n",
    "    - Note that many of them are *reduction methods* from Lesson 14\n",
    "    \n",
    "    \n",
    "| Method | Description |\n",
    "| :- | :- |\n",
    "| `count` | Number of non-NA values |\n",
    "| `first` | First value in group |\n",
    "| `last` | Last value in group |\n",
    "| `nunique` | Number of unique values |\n",
    "| `min`, `max` | Minimum and maximum values |\n",
    "| `sum` | Sum of values |\n",
    "| `mean` | Mean of values |\n",
    "| `median` | Median of values |\n",
    "| `mad` | Mean absolute deviation from mean value |\n",
    "| `prod` | Product of all values |\n",
    "| `var` | Sample variance of values |\n",
    "| `std` | Sample standard deivation of values |\n",
    "\n",
    "\n",
    "- Instead of the `'aggregation function'` string, you can pass a function itself\n",
    "    - For example, instead of `('variable1', 'sum')`, you could use \n",
    "        ```python\n",
    "        ('variable1', lambda s: s.sum())\n",
    "        ```\n",
    "        where `s` refers to the `variable1` column/Series of an *individual group* \n",
    "\n",
    "\n",
    "- *Note.* This method of using `.agg()` is called *named aggregation*\n",
    "    - There are a few other ways of using `.agg()`; see the [documentation](https://pandas.pydata.org/pandas-docs/stable/user_guide/groupby.html#aggregation) for details"
   ]
  },
  {
   "cell_type": "markdown",
   "metadata": {},
   "source": [
    "<hr style=\"border-top: 2px solid gray; margin-top: 1px; margin-bottom: 1px\"></hr>"
   ]
  },
  {
   "cell_type": "markdown",
   "metadata": {},
   "source": [
    "## Grouping by multiple variables"
   ]
  },
  {
   "cell_type": "markdown",
   "metadata": {},
   "source": [
    "- We can split a DataFrame into groups based on the values of *multiple* variables\n",
    "\n",
    "\n",
    "- For example, we can compute the number of flights on each day like this:"
   ]
  },
  {
   "cell_type": "code",
   "execution_count": null,
   "metadata": {},
   "outputs": [],
   "source": []
  },
  {
   "cell_type": "markdown",
   "metadata": {},
   "source": [
    "<hr style=\"border-top: 2px solid gray; margin-top: 1px; margin-bottom: 1px\"></hr>"
   ]
  },
  {
   "cell_type": "markdown",
   "metadata": {},
   "source": [
    "## Transformation"
   ]
  },
  {
   "cell_type": "markdown",
   "metadata": {},
   "source": [
    "- **Transformation** involves performing a computation on each group, and returning objects that are the same size as each group, with the same index\n",
    "\n",
    "\n",
    "- Visually:\n",
    "\n",
    "<img src=\"img/transformation.jpg\" width=\"800\"/>\n",
    "\n",
    "\n",
    "- Transformation usually involves a \"same size\" method like we described in Lesson 14\n",
    "\n",
    "\n",
    "- For example, recall that `rank()` is a \"same size\" method that computes numerical ranks (for example, 1 = highest, 2 = second highest, etc.)\n",
    "\n",
    "\n",
    "- For each day of the year, we can compute the rank of each flight according to its arrival delay, from highest (rank = 1) to lowest, like this:"
   ]
  },
  {
   "cell_type": "code",
   "execution_count": null,
   "metadata": {},
   "outputs": [],
   "source": []
  },
  {
   "cell_type": "markdown",
   "metadata": {},
   "source": [
    "- Let's walk through this code step-by-step\n",
    "\n",
    "\n",
    "- `.groupby(['year', 'month', 'day'])` splits the DataFrame df into groups of rows, according to the combination of values of `year`, `month`, and `day`\n",
    "\n",
    "\n",
    "- `['arr_delay']` then selects the `arr_delay` column/Series\n",
    "\n",
    "\n",
    "- `.transform(...)` then takes the `arr_delay` Series *from each group* and applies the lambda function to it\n",
    "\n",
    "\n",
    "- In `lambda s: s.rank(ascending=False)`:\n",
    "    - `s` represents the `arr_delay` column/Series from each group\n",
    "    - The lambda function outputs the numerical rank for each value in the Series, with the highest value having rank 1\n"
   ]
  },
  {
   "cell_type": "markdown",
   "metadata": {},
   "source": [
    "- We can use the `.assign()` method to add these numerical ranks to our original DataFrame, like this:"
   ]
  },
  {
   "cell_type": "code",
   "execution_count": null,
   "metadata": {},
   "outputs": [],
   "source": []
  },
  {
   "cell_type": "markdown",
   "metadata": {},
   "source": [
    "- Let's pick a random day of the year and check our work, like this:"
   ]
  },
  {
   "cell_type": "code",
   "execution_count": null,
   "metadata": {},
   "outputs": [],
   "source": []
  },
  {
   "cell_type": "markdown",
   "metadata": {},
   "source": [
    "- Note that some of the values in the `daily_arr_delay_rank` column are fractional\n",
    "\n",
    "\n",
    "- By default, for a group of records that have the same value (i.e. ties), the `.rank()` method reports the average rank of the group\n",
    "    - See the [documentation](https://pandas.pydata.org/pandas-docs/stable/reference/api/pandas.DataFrame.rank.html) for other tie-breaking methods"
   ]
  },
  {
   "cell_type": "markdown",
   "metadata": {},
   "source": [
    "* **Basic template for transformation:**\n",
    "\n",
    "    ```python\n",
    "    df_with_transformed_column = df.assign(\n",
    "        new_variable=lambda x: \n",
    "            x.groupby(list_of_variables)\n",
    "            ['variable']\n",
    "            .transform(lambda s: s.same_size_method(...))\n",
    "    )\n",
    "    ```\n",
    "    where `x` refers to `df`, and `s` refers to `x['variable']`"
   ]
  },
  {
   "cell_type": "markdown",
   "metadata": {},
   "source": [
    "<hr style=\"border-top: 2px solid gray; margin-top: 1px; margin-bottom: 1px\"></hr>"
   ]
  },
  {
   "cell_type": "markdown",
   "metadata": {},
   "source": [
    "## Filtration"
   ]
  },
  {
   "cell_type": "markdown",
   "metadata": {},
   "source": [
    "- **Filtration** allows us to keep or discard some groups based on a group-wise computation that evaluates to True or False\n",
    "\n",
    "\n",
    "- Visually:\n",
    "\n",
    "<img src=\"img/filtration.jpg\" width=\"800\"/>\n",
    "\n",
    "\n",
    "- For example, we can keep all flights to destination airports with 10,000 or more total flights, like this:"
   ]
  },
  {
   "cell_type": "code",
   "execution_count": null,
   "metadata": {},
   "outputs": [],
   "source": []
  },
  {
   "cell_type": "markdown",
   "metadata": {},
   "source": [
    "- How does this code work?\n",
    "\n",
    "\n",
    "- First, `.groupby(['dest'])` splits the DataFrame `df` into groups of rows, according to the row's value of `dest`\n",
    "\n",
    "\n",
    "- Then, `.filter(...)` takes a function that, when applied to the group as a whole, returns True or False\n",
    "    \n",
    "\n",
    "- In `lambda x: x['flight'].count() > 10000`:\n",
    "    - `x` represents a single group\n",
    "    - `x['flight'].count()` counts the non-NA values in the `flight` column of each group `x`"
   ]
  },
  {
   "cell_type": "markdown",
   "metadata": {},
   "source": [
    "- Let's check our work, by counting the number of flights to each destination, as we did in the *Aggregation* section above:"
   ]
  },
  {
   "cell_type": "code",
   "execution_count": null,
   "metadata": {},
   "outputs": [],
   "source": []
  },
  {
   "cell_type": "markdown",
   "metadata": {},
   "source": [
    "* **Basic template for filtration:**\n",
    "\n",
    "    ```python\n",
    "    filtered_df = (\n",
    "        df\n",
    "        .groupby(list_of_variables)\n",
    "        .filter(lambda x: expression that evaluates to True or False)\n",
    "    )\n",
    "    ```\n",
    "    where `x` refers to `df`"
   ]
  },
  {
   "cell_type": "markdown",
   "metadata": {},
   "source": [
    "<hr style=\"border-top: 2px solid gray; margin-top: 1px; margin-bottom: 1px\"></hr>"
   ]
  },
  {
   "cell_type": "markdown",
   "metadata": {},
   "source": [
    "## Problems"
   ]
  },
  {
   "cell_type": "markdown",
   "metadata": {},
   "source": [
    "For the problems below, use the nycflights13 dataset that we used in this lesson."
   ]
  },
  {
   "cell_type": "markdown",
   "metadata": {},
   "source": [
    "**Problem 1.**\n",
    "What time of day should you fly if you want to avoid delays as much as possible? Compute the average departure and arrival delays for each hour of the day."
   ]
  },
  {
   "cell_type": "code",
   "execution_count": null,
   "metadata": {},
   "outputs": [],
   "source": []
  },
  {
   "cell_type": "markdown",
   "metadata": {},
   "source": [
    "**Problem 2.** Assume that flights with missing arrival delays correspond to cancelled flights. Compute the number of cancelled flights for each month.\n",
    "\n",
    "*Hint.* Use `.query()` to narrow down the dataset to rows corresponding to cancelled flights."
   ]
  },
  {
   "cell_type": "code",
   "execution_count": null,
   "metadata": {},
   "outputs": [],
   "source": []
  },
  {
   "cell_type": "markdown",
   "metadata": {},
   "source": [
    "**Problem 3.**\n",
    "Which carrier has the worst delays? Compute the average arrival delay for each carrier. Sort them from highest to lowest average arrival delay."
   ]
  },
  {
   "cell_type": "code",
   "execution_count": null,
   "metadata": {},
   "outputs": [],
   "source": []
  },
  {
   "cell_type": "markdown",
   "metadata": {},
   "source": [
    "**Problem 4.**\n",
    "Perhaps it's a better idea to compare the average arrival delay between carriers on the same route.\n",
    "\n",
    "Focus on routes from a NYC airport (EWR, JFK, LGA) to either Atlanta (ATL) or Chicago O'Hare (ORD). For each route, find the carrier with the highest average arrival delay.\n",
    "\n",
    "*Hint.* Use `.agg()`, sort the resulting values, and then use `.agg()` again."
   ]
  },
  {
   "cell_type": "code",
   "execution_count": null,
   "metadata": {},
   "outputs": [],
   "source": []
  },
  {
   "cell_type": "markdown",
   "metadata": {},
   "source": [
    "**Problem 5.**\n",
    "Consider the following code, that compares the `dep_delay` column with the value `0`:"
   ]
  },
  {
   "cell_type": "code",
   "execution_count": null,
   "metadata": {},
   "outputs": [],
   "source": [
    "df['dep_delay'] > 0"
   ]
  },
  {
   "cell_type": "markdown",
   "metadata": {},
   "source": [
    "Here we have another way of creating a new variable in Pandas! Note that the result is another Series, with the same index as `df['dep_delay']`. The values in the Series are `True` or `False`, depending on whether the value of `dep_delay` is positive.\n",
    "\n",
    "In Pandas, we can convert these `True` and `False` values to integers, using the `.astype()` method. Note that `True` is converted to `1`, and `False` is converted to `0`:"
   ]
  },
  {
   "cell_type": "code",
   "execution_count": null,
   "metadata": {},
   "outputs": [],
   "source": [
    "(df['dep_delay'] > 0).astype(int)"
   ]
  },
  {
   "cell_type": "markdown",
   "metadata": {},
   "source": [
    "In this way, we can create a new variable that represents whether a flight left on time.\n",
    "\n",
    "How often does a plane (tail number) leave on time? For each plane, compute the fraction of flights it leaves on time."
   ]
  },
  {
   "cell_type": "code",
   "execution_count": null,
   "metadata": {},
   "outputs": [],
   "source": []
  },
  {
   "cell_type": "markdown",
   "metadata": {},
   "source": [
    "**Problem 6.**\n",
    "For each plane (tail number), compute its cumulative departure delay over each day in 2013 that it departed from a NYC airport.\n",
    "\n",
    "*Hint.* First, remove all flights with missing departure delays."
   ]
  },
  {
   "cell_type": "code",
   "execution_count": null,
   "metadata": {},
   "outputs": [],
   "source": []
  },
  {
   "cell_type": "markdown",
   "metadata": {},
   "source": [
    "<hr style=\"border-top: 2px solid gray; margin-top: 1px; margin-bottom: 1px\"></hr>"
   ]
  },
  {
   "cell_type": "markdown",
   "metadata": {},
   "source": [
    "## Notes and sources"
   ]
  },
  {
   "cell_type": "markdown",
   "metadata": {},
   "source": [
    "- From the [Pandas User Guide](https://pandas.pydata.org/docs/user_guide/index.html):\n",
    "    - [Group by: split-apply-combine](https://pandas.pydata.org/pandas-docs/stable/user_guide/groupby.html)\n",
    "    \n",
    "    \n",
    "- Lesson and problems inspired by Chapter 5 of [R for Data Science](https://r4ds.had.co.nz/)"
   ]
  }
 ],
 "metadata": {
  "kernelspec": {
   "display_name": "Python 3",
   "language": "python",
   "name": "python3"
  },
  "language_info": {
   "codemirror_mode": {
    "name": "ipython",
    "version": 3
   },
   "file_extension": ".py",
   "mimetype": "text/x-python",
   "name": "python",
   "nbconvert_exporter": "python",
   "pygments_lexer": "ipython3",
   "version": "3.7.6"
  }
 },
 "nbformat": 4,
 "nbformat_minor": 4
}
